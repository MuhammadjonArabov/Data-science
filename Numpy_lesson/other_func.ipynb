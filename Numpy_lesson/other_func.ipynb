{
 "cells": [
  {
   "cell_type": "markdown",
   "metadata": {},
   "source": [
    "# static va yig'indi funksiyalar"
   ]
  },
  {
   "cell_type": "code",
   "execution_count": 3,
   "metadata": {},
   "outputs": [
    {
     "name": "stdout",
     "output_type": "stream",
     "text": [
      "sum = 15\n",
      "prod = 120\n",
      "cumsum = [ 1  3  6 10 15]\n",
      "comprod = [  1   2   6  24 120]\n",
      "mean = 3.0\n",
      "median = 3.0\n",
      "average = 2.3333333333333335\n",
      "std = 1.4142135623730951\n",
      "var = 2.0\n",
      "min = 1\n",
      "max = 5\n",
      "ptp = 4\n",
      "percentile = 3.0\n",
      "quantile = 3.0\n"
     ]
    }
   ],
   "source": [
    "import numpy as np\n",
    "\n",
    "a = np.array([1, 2, 3, 4, 5])\n",
    "b = np.array([1, 2, 3])\n",
    "\n",
    "# 1. Summa (yig‘indi)\n",
    "print(f\"sum = {np.sum(a)}\") \n",
    "\n",
    "# 2. Ko'paytma\n",
    "print(f\"prod = {np.prod(a)}\")  \n",
    "\n",
    "# 3. Kumulativ summa (yig‘indi)\n",
    "print(f\"cumsum = {np.cumsum(a)}\")  # [ 1  3  6 1\n",
    "\n",
    "# 4. Kumulativ ko'paytma\n",
    "print(f\"comprod = {np.cumprod(a)}\")  # [  1   2   6  24\n",
    "\n",
    "# 5. O‘rtacha qiymat\n",
    "print(f\"mean = {np.mean(a)}\")  \n",
    "\n",
    "# 6. Median (o‘rtacha qiymat tartib bo‘yicha)\n",
    "print(f\"median = {np.median(a)}\")  \n",
    "\n",
    "# 7. O‘rtacha qiymat (og‘irliklar bilan)\n",
    "weights = np.array([1, 2, 3])\n",
    "print(f\"average = {np.average(b, weights=weights)}\")  # 2.33333333333\n",
    "\n",
    "# 8. Standart og‘ish \n",
    "print(f\"std = {np.std(a)}\")  # 1.41421356237\n",
    "\n",
    "# 9. Dispersiya \n",
    "print(f\"var = {np.var(a)}\")  \n",
    "\n",
    "# 10. Eng kichik qiymat\n",
    "print(f\"min = {np.min(a)}\")\n",
    "\n",
    "# 11. Eng katta qiymat\n",
    "print(f\"max = {np.max(a)}\")\n",
    "\n",
    "# 12. Eng katta va eng kichik qiymatlar farqi (peak-to-peak)\n",
    "print(f\"ptp = {np.ptp(a)}\")\n",
    "\n",
    "# 13. Foizli qiymatlar (percentile) - 50% median bilan bir xil\n",
    "print(f\"percentile = {np.percentile(a, 50)}\")  \n",
    "\n",
    "# 14. Kvantil - 0.5 kvantil ham median bilan bir xil\n",
    "print(f\"quantile = {np.quantile(a, 0.5)}\")  \n"
   ]
  },
  {
   "cell_type": "markdown",
   "metadata": {},
   "source": [
    "# Sorting funksiyalar"
   ]
  },
  {
   "cell_type": "code",
   "execution_count": 19,
   "metadata": {},
   "outputs": [
    {
     "name": "stdout",
     "output_type": "stream",
     "text": [
      "sort = [1 1 2 3 3 4 5 5 6 9]\n",
      "argsort = [1 3 6 0 9 2 8 4 7 5]\n",
      "lexsort = [2 3 0 1]\n",
      "searchsorted = 3\n",
      "partition = [1 3 5 7 9]\n",
      "argpartition = [4 3 2 1 0]\n"
     ]
    }
   ],
   "source": [
    "import numpy as np\n",
    "\n",
    "a = np.array([3, 1, 4, 1, 5, 9, 2, 6, 5, 3])\n",
    "\n",
    "# 1. Oddiy saralash\n",
    "print(f\"sort = {np.sort(a)}\")  \n",
    "\n",
    "\n",
    "# 2. Indekslarni qaytaruvchi saralash\n",
    "print(f\"argsort = {np.argsort(a)}\")  \n",
    "\n",
    "# 3. Lexikografik saralash (ko‘p o‘lchamli massivlar uchun)\n",
    "names = ('John', 'Jane', 'Alex', 'Bob')\n",
    "ages = np.array([25, 30, 20, 22])\n",
    "heights = np.array([175, 160, 180, 170])\n",
    "\n",
    "sorted_indices = np.lexsort((heights, ages))  \n",
    "print(f\"lexsort = {sorted_indices}\")  \n",
    "\n",
    "# 4. Qidirish (searchsorted) - qaysi indeksga joylash kerakligini aniqlash\n",
    "sorted_array = np.array([1, 3, 4, 7, 9])\n",
    "print(f\"searchsorted = {np.searchsorted(sorted_array, 7)}\")  \n",
    "\n",
    "\n",
    "# 5. Tanlangan qiymatlar bo‘yicha ajratish (partition)\n",
    "b = np.array([9, 7, 5, 3, 1])\n",
    "print(f\"partition = {np.partition(b, 1)}\")  \n",
    "\n",
    "# 6. Indekslangan ajratish (argpartition)\n",
    "print(f\"argpartition = {np.argpartition(b, 2)}\")  \n"
   ]
  }
 ],
 "metadata": {
  "kernelspec": {
   "display_name": "ai",
   "language": "python",
   "name": "python3"
  },
  "language_info": {
   "codemirror_mode": {
    "name": "ipython",
    "version": 3
   },
   "file_extension": ".py",
   "mimetype": "text/x-python",
   "name": "python",
   "nbconvert_exporter": "python",
   "pygments_lexer": "ipython3",
   "version": "3.11.11"
  }
 },
 "nbformat": 4,
 "nbformat_minor": 2
}
