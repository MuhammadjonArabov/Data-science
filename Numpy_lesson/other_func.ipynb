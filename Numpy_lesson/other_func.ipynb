{
 "cells": [
  {
   "cell_type": "markdown",
   "metadata": {},
   "source": [
    "# static va yig'indi funksiyalar"
   ]
  },
  {
   "cell_type": "code",
   "execution_count": 3,
   "metadata": {},
   "outputs": [
    {
     "name": "stdout",
     "output_type": "stream",
     "text": [
      "sum = 15\n",
      "prod = 120\n",
      "cumsum = [ 1  3  6 10 15]\n",
      "comprod = [  1   2   6  24 120]\n",
      "mean = 3.0\n",
      "median = 3.0\n",
      "average = 2.3333333333333335\n",
      "std = 1.4142135623730951\n",
      "var = 2.0\n",
      "min = 1\n",
      "max = 5\n",
      "ptp = 4\n",
      "percentile = 3.0\n",
      "quantile = 3.0\n"
     ]
    }
   ],
   "source": [
    "import numpy as np\n",
    "\n",
    "a = np.array([1, 2, 3, 4, 5])\n",
    "b = np.array([1, 2, 3])\n",
    "\n",
    "# 1. Summa (yig‘indi)\n",
    "print(f\"sum = {np.sum(a)}\") \n",
    "\n",
    "# 2. Ko'paytma\n",
    "print(f\"prod = {np.prod(a)}\")  \n",
    "\n",
    "# 3. Kumulativ summa (yig‘indi)\n",
    "print(f\"cumsum = {np.cumsum(a)}\")  # [ 1  3  6 1\n",
    "\n",
    "# 4. Kumulativ ko'paytma\n",
    "print(f\"comprod = {np.cumprod(a)}\")  # [  1   2   6  24\n",
    "\n",
    "# 5. O‘rtacha qiymat\n",
    "print(f\"mean = {np.mean(a)}\")  \n",
    "\n",
    "# 6. Median (o‘rtacha qiymat tartib bo‘yicha)\n",
    "print(f\"median = {np.median(a)}\")  \n",
    "\n",
    "# 7. O‘rtacha qiymat (og‘irliklar bilan)\n",
    "weights = np.array([1, 2, 3])\n",
    "print(f\"average = {np.average(b, weights=weights)}\")  # 2.33333333333\n",
    "\n",
    "# 8. Standart og‘ish \n",
    "print(f\"std = {np.std(a)}\")  # 1.41421356237\n",
    "\n",
    "# 9. Dispersiya \n",
    "print(f\"var = {np.var(a)}\")  \n",
    "\n",
    "# 10. Eng kichik qiymat\n",
    "print(f\"min = {np.min(a)}\")\n",
    "\n",
    "# 11. Eng katta qiymat\n",
    "print(f\"max = {np.max(a)}\")\n",
    "\n",
    "# 12. Eng katta va eng kichik qiymatlar farqi (peak-to-peak)\n",
    "print(f\"ptp = {np.ptp(a)}\")\n",
    "\n",
    "# 13. Foizli qiymatlar (percentile) - 50% median bilan bir xil\n",
    "print(f\"percentile = {np.percentile(a, 50)}\")  \n",
    "\n",
    "# 14. Kvantil - 0.5 kvantil ham median bilan bir xil\n",
    "print(f\"quantile = {np.quantile(a, 0.5)}\")  \n"
   ]
  },
  {
   "cell_type": "markdown",
   "metadata": {},
   "source": [
    "# Sorting funksiyalar"
   ]
  },
  {
   "cell_type": "code",
   "execution_count": 19,
   "metadata": {},
   "outputs": [
    {
     "name": "stdout",
     "output_type": "stream",
     "text": [
      "sort = [1 1 2 3 3 4 5 5 6 9]\n",
      "argsort = [1 3 6 0 9 2 8 4 7 5]\n",
      "lexsort = [2 3 0 1]\n",
      "searchsorted = 3\n",
      "partition = [1 3 5 7 9]\n",
      "argpartition = [4 3 2 1 0]\n"
     ]
    }
   ],
   "source": [
    "import numpy as np\n",
    "\n",
    "a = np.array([3, 1, 4, 1, 5, 9, 2, 6, 5, 3])\n",
    "\n",
    "# 1. Oddiy saralash\n",
    "print(f\"sort = {np.sort(a)}\")  \n",
    "\n",
    "\n",
    "# 2. Indekslarni qaytaruvchi saralash\n",
    "print(f\"argsort = {np.argsort(a)}\")  \n",
    "\n",
    "# 3. Lexikografik saralash (ko‘p o‘lchamli massivlar uchun)\n",
    "names = ('John', 'Jane', 'Alex', 'Bob')\n",
    "ages = np.array([25, 30, 20, 22])\n",
    "heights = np.array([175, 160, 180, 170])\n",
    "\n",
    "sorted_indices = np.lexsort((heights, ages))  \n",
    "print(f\"lexsort = {sorted_indices}\")  \n",
    "\n",
    "# 4. Qidirish (searchsorted) - qaysi indeksga joylash kerakligini aniqlash\n",
    "sorted_array = np.array([1, 3, 4, 7, 9])\n",
    "print(f\"searchsorted = {np.searchsorted(sorted_array, 7)}\")  \n",
    "\n",
    "\n",
    "# 5. Tanlangan qiymatlar bo‘yicha ajratish (partition)\n",
    "b = np.array([9, 7, 5, 3, 1])\n",
    "print(f\"partition = {np.partition(b, 1)}\")  \n",
    "\n",
    "# 6. Indekslangan ajratish (argpartition)\n",
    "print(f\"argpartition = {np.argpartition(b, 2)}\")  \n"
   ]
  },
  {
   "cell_type": "markdown",
   "metadata": {},
   "source": [
    "# O'zaro moslik va tekshirish funksiyalari"
   ]
  },
  {
   "cell_type": "code",
   "execution_count": 21,
   "metadata": {},
   "outputs": [
    {
     "name": "stdout",
     "output_type": "stream",
     "text": [
      "all = False\n",
      "all = True\n",
      "True\n",
      "any = False\n",
      "isfinite = [ True False False False  True]\n",
      "isinf = [False False  True  True False]\n",
      "isnan = [False  True False False False]\n",
      "isscalar = True\n",
      "isscalar = False\n",
      "iscomplex = [ True False  True False]\n",
      "isreal = [False  True False  True]\n",
      "isrealobj = True\n",
      "isrealobj = False\n",
      "iscomplexobj = False\n",
      "iscomplexobj = True\n"
     ]
    }
   ],
   "source": [
    "import numpy as np\n",
    "\n",
    "# Barcha elementlar True yoki yo‘qligini tekshiradi\n",
    "a = np.array([True, True, False])\n",
    "b = np.array([1, 2, 3])\n",
    "print(f\"all = {np.all(a)}\")  \n",
    "print(f\"all = {np.all(b)}\") \n",
    "\n",
    "# Kamida bitta element True yoki yo‘qligini tekshiradi\n",
    "print(np.any(a))        \n",
    "c = np.array([0, 0, 0])\n",
    "print(f\"any = {np.any(c)}\")  \n",
    "\n",
    "# Cheksiz yoki NaN bo‘lmagan elementlarni aniqlaydi\n",
    "d = np.array([1, np.nan, np.inf, -np.inf, 3])\n",
    "print(f\"isfinite = {np.isfinite(d)}\")  \n",
    "\n",
    "# Cheksiz elementlarni aniqlaydi\n",
    "print(F\"isinf = {np.isinf(d)}\") \n",
    "\n",
    "# NaN elementlarni aniqlaydi\n",
    "print(f\"isnan = {np.isnan(d)}\") \n",
    "\n",
    "# Skalyar ekanligini tekshiradi\n",
    "print(f\"isscalar = {np.isscalar(42)}\") \n",
    "print(f\"isscalar = {np.isscalar(np.array([42]))}\")  \n",
    "\n",
    "# Kompleks elementlarni aniqlaydi\n",
    "e = np.array([1+2j, 3, 4j, 5])\n",
    "print(f\"iscomplex = {np.iscomplex(e)}\")\n",
    "\n",
    "# Haqiqiy elementlarni aniqlaydi\n",
    "print(f\"isreal = {np.isreal(e)}\")\n",
    "\n",
    "# Haqiqiy massiv ekanligini tekshiradi\n",
    "f = np.array([1.5, 2, 3])\n",
    "g = np.array([1+2j, 3, 4j])\n",
    "print(f\"isrealobj = {np.isrealobj(f)}\") \n",
    "print(f\"isrealobj = {np.isrealobj(g)}\")  \n",
    "\n",
    "# Kompleks massiv ekanligini tekshiradi\n",
    "print(f\"iscomplexobj = {np.iscomplexobj(f)}\")  \n",
    "print(f\"iscomplexobj = {np.iscomplexobj(g)}\") \n",
    "\n"
   ]
  },
  {
   "cell_type": "markdown",
   "metadata": {},
   "source": [
    "# Bitwise (bit bo‘yicha) operatsiyalar"
   ]
  },
  {
   "cell_type": "code",
   "execution_count": 22,
   "metadata": {},
   "outputs": [
    {
     "name": "stdout",
     "output_type": "stream",
     "text": [
      "bitwise_and = [8 8 3]\n",
      "bitwise_or = [14 14  7]\n",
      "bitwise_xor = [6 6 4]\n",
      "invert = [-1 -2 -3 -4 -5]\n",
      "left_shift = [ 4  8 12]\n",
      "right_shift = [ 4  8 16]\n"
     ]
    }
   ],
   "source": [
    "import numpy as np\n",
    "\n",
    "# Bitwise AND (elementlar bo‘yicha mantiqiy VA amali)\n",
    "x = np.array([0b1100, 0b1010, 0b0111])\n",
    "y = np.array([0b1010, 0b1100, 0b0011])\n",
    "print(f\"bitwise_and = {np.bitwise_and(x, y)}\")  \n",
    "\n",
    "# Bitwise OR (elementlar bo‘yicha mantiqiy YOKI amali)\n",
    "print(f\"bitwise_or = {np.bitwise_or(x, y)}\")  \n",
    "\n",
    "# Bitwise XOR (elementlar bo‘yicha mantiqiy XOR amali)\n",
    "print(f\"bitwise_xor = {np.bitwise_xor(x, y)}\")  \n",
    "\n",
    "# Bitwise INVERT (elementlarni teskari o‘zgartirish)\n",
    "z = np.array([0, 1, 2, 3, 4])\n",
    "print(f\"invert = {np.invert(z)}\")  \n",
    "\n",
    "# LEFT SHIFT (bitlarni chapga siljitish)\n",
    "a = np.array([1, 2, 3])\n",
    "print(f\"left_shift = {np.left_shift(a, 2)}\")  # 2 ta pozitsiyaga chapga siljitish\n",
    "\n",
    "# RIGHT SHIFT (bitlarni o‘ngga siljitish)\n",
    "b = np.array([16, 32, 64])\n",
    "print(f\"right_shift = {np.right_shift(b, 2)}\")  # 2 ta pozitsiyaga o‘ngga siljitish\n"
   ]
  }
 ],
 "metadata": {
  "kernelspec": {
   "display_name": "ai",
   "language": "python",
   "name": "python3"
  },
  "language_info": {
   "codemirror_mode": {
    "name": "ipython",
    "version": 3
   },
   "file_extension": ".py",
   "mimetype": "text/x-python",
   "name": "python",
   "nbconvert_exporter": "python",
   "pygments_lexer": "ipython3",
   "version": "3.11.11"
  }
 },
 "nbformat": 4,
 "nbformat_minor": 2
}
