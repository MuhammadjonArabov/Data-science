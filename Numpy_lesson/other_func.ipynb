{
 "cells": [
  {
   "cell_type": "markdown",
   "metadata": {},
   "source": [
    "# static va yig'indi funksiyalar"
   ]
  },
  {
   "cell_type": "code",
   "execution_count": 3,
   "metadata": {},
   "outputs": [
    {
     "name": "stdout",
     "output_type": "stream",
     "text": [
      "sum = 15\n",
      "prod = 120\n",
      "cumsum = [ 1  3  6 10 15]\n",
      "comprod = [  1   2   6  24 120]\n",
      "mean = 3.0\n",
      "median = 3.0\n",
      "average = 2.3333333333333335\n",
      "std = 1.4142135623730951\n",
      "var = 2.0\n",
      "min = 1\n",
      "max = 5\n",
      "ptp = 4\n",
      "percentile = 3.0\n",
      "quantile = 3.0\n"
     ]
    }
   ],
   "source": [
    "import numpy as np\n",
    "\n",
    "a = np.array([1, 2, 3, 4, 5])\n",
    "b = np.array([1, 2, 3])\n",
    "\n",
    "# 1. Summa (yig‘indi)\n",
    "print(f\"sum = {np.sum(a)}\") \n",
    "\n",
    "# 2. Ko'paytma\n",
    "print(f\"prod = {np.prod(a)}\")  \n",
    "\n",
    "# 3. Kumulativ summa (yig‘indi)\n",
    "print(f\"cumsum = {np.cumsum(a)}\")  # [ 1  3  6 1\n",
    "\n",
    "# 4. Kumulativ ko'paytma\n",
    "print(f\"comprod = {np.cumprod(a)}\")  # [  1   2   6  24\n",
    "\n",
    "# 5. O‘rtacha qiymat\n",
    "print(f\"mean = {np.mean(a)}\")  \n",
    "\n",
    "# 6. Median (o‘rtacha qiymat tartib bo‘yicha)\n",
    "print(f\"median = {np.median(a)}\")  \n",
    "\n",
    "# 7. O‘rtacha qiymat (og‘irliklar bilan)\n",
    "weights = np.array([1, 2, 3])\n",
    "print(f\"average = {np.average(b, weights=weights)}\")  # 2.33333333333\n",
    "\n",
    "# 8. Standart og‘ish \n",
    "print(f\"std = {np.std(a)}\")  # 1.41421356237\n",
    "\n",
    "# 9. Dispersiya \n",
    "print(f\"var = {np.var(a)}\")  \n",
    "\n",
    "# 10. Eng kichik qiymat\n",
    "print(f\"min = {np.min(a)}\")\n",
    "\n",
    "# 11. Eng katta qiymat\n",
    "print(f\"max = {np.max(a)}\")\n",
    "\n",
    "# 12. Eng katta va eng kichik qiymatlar farqi (peak-to-peak)\n",
    "print(f\"ptp = {np.ptp(a)}\")\n",
    "\n",
    "# 13. Foizli qiymatlar (percentile) - 50% median bilan bir xil\n",
    "print(f\"percentile = {np.percentile(a, 50)}\")  \n",
    "\n",
    "# 14. Kvantil - 0.5 kvantil ham median bilan bir xil\n",
    "print(f\"quantile = {np.quantile(a, 0.5)}\")  \n"
   ]
  },
  {
   "cell_type": "markdown",
   "metadata": {},
   "source": [
    "# Sorting funksiyalar"
   ]
  },
  {
   "cell_type": "code",
   "execution_count": 19,
   "metadata": {},
   "outputs": [
    {
     "name": "stdout",
     "output_type": "stream",
     "text": [
      "sort = [1 1 2 3 3 4 5 5 6 9]\n",
      "argsort = [1 3 6 0 9 2 8 4 7 5]\n",
      "lexsort = [2 3 0 1]\n",
      "searchsorted = 3\n",
      "partition = [1 3 5 7 9]\n",
      "argpartition = [4 3 2 1 0]\n"
     ]
    }
   ],
   "source": [
    "import numpy as np\n",
    "\n",
    "a = np.array([3, 1, 4, 1, 5, 9, 2, 6, 5, 3])\n",
    "\n",
    "# 1. Oddiy saralash\n",
    "print(f\"sort = {np.sort(a)}\")  \n",
    "\n",
    "\n",
    "# 2. Indekslarni qaytaruvchi saralash\n",
    "print(f\"argsort = {np.argsort(a)}\")  \n",
    "\n",
    "# 3. Lexikografik saralash (ko‘p o‘lchamli massivlar uchun)\n",
    "names = ('John', 'Jane', 'Alex', 'Bob')\n",
    "ages = np.array([25, 30, 20, 22])\n",
    "heights = np.array([175, 160, 180, 170])\n",
    "\n",
    "sorted_indices = np.lexsort((heights, ages))  \n",
    "print(f\"lexsort = {sorted_indices}\")  \n",
    "\n",
    "# 4. Qidirish (searchsorted) - qaysi indeksga joylash kerakligini aniqlash\n",
    "sorted_array = np.array([1, 3, 4, 7, 9])\n",
    "print(f\"searchsorted = {np.searchsorted(sorted_array, 7)}\")  \n",
    "\n",
    "\n",
    "# 5. Tanlangan qiymatlar bo‘yicha ajratish (partition)\n",
    "b = np.array([9, 7, 5, 3, 1])\n",
    "print(f\"partition = {np.partition(b, 1)}\")  \n",
    "\n",
    "# 6. Indekslangan ajratish (argpartition)\n",
    "print(f\"argpartition = {np.argpartition(b, 2)}\")  \n"
   ]
  },
  {
   "cell_type": "markdown",
   "metadata": {},
   "source": [
    "# O'zaro moslik va tekshirish funksiyalari"
   ]
  },
  {
   "cell_type": "code",
   "execution_count": 21,
   "metadata": {},
   "outputs": [
    {
     "name": "stdout",
     "output_type": "stream",
     "text": [
      "all = False\n",
      "all = True\n",
      "True\n",
      "any = False\n",
      "isfinite = [ True False False False  True]\n",
      "isinf = [False False  True  True False]\n",
      "isnan = [False  True False False False]\n",
      "isscalar = True\n",
      "isscalar = False\n",
      "iscomplex = [ True False  True False]\n",
      "isreal = [False  True False  True]\n",
      "isrealobj = True\n",
      "isrealobj = False\n",
      "iscomplexobj = False\n",
      "iscomplexobj = True\n"
     ]
    }
   ],
   "source": [
    "import numpy as np\n",
    "\n",
    "# Barcha elementlar True yoki yo‘qligini tekshiradi\n",
    "a = np.array([True, True, False])\n",
    "b = np.array([1, 2, 3])\n",
    "print(f\"all = {np.all(a)}\")  \n",
    "print(f\"all = {np.all(b)}\") \n",
    "\n",
    "# Kamida bitta element True yoki yo‘qligini tekshiradi\n",
    "print(np.any(a))        \n",
    "c = np.array([0, 0, 0])\n",
    "print(f\"any = {np.any(c)}\")  \n",
    "\n",
    "# Cheksiz yoki NaN bo‘lmagan elementlarni aniqlaydi\n",
    "d = np.array([1, np.nan, np.inf, -np.inf, 3])\n",
    "print(f\"isfinite = {np.isfinite(d)}\")  \n",
    "\n",
    "# Cheksiz elementlarni aniqlaydi\n",
    "print(F\"isinf = {np.isinf(d)}\") \n",
    "\n",
    "# NaN elementlarni aniqlaydi\n",
    "print(f\"isnan = {np.isnan(d)}\") \n",
    "\n",
    "# Skalyar ekanligini tekshiradi\n",
    "print(f\"isscalar = {np.isscalar(42)}\") \n",
    "print(f\"isscalar = {np.isscalar(np.array([42]))}\")  \n",
    "\n",
    "# Kompleks elementlarni aniqlaydi\n",
    "e = np.array([1+2j, 3, 4j, 5])\n",
    "print(f\"iscomplex = {np.iscomplex(e)}\")\n",
    "\n",
    "# Haqiqiy elementlarni aniqlaydi\n",
    "print(f\"isreal = {np.isreal(e)}\")\n",
    "\n",
    "# Haqiqiy massiv ekanligini tekshiradi\n",
    "f = np.array([1.5, 2, 3])\n",
    "g = np.array([1+2j, 3, 4j])\n",
    "print(f\"isrealobj = {np.isrealobj(f)}\") \n",
    "print(f\"isrealobj = {np.isrealobj(g)}\")  \n",
    "\n",
    "# Kompleks massiv ekanligini tekshiradi\n",
    "print(f\"iscomplexobj = {np.iscomplexobj(f)}\")  \n",
    "print(f\"iscomplexobj = {np.iscomplexobj(g)}\") \n",
    "\n"
   ]
  },
  {
   "cell_type": "markdown",
   "metadata": {},
   "source": [
    "# Bitwise (bit bo‘yicha) operatsiyalar"
   ]
  },
  {
   "cell_type": "code",
   "execution_count": 22,
   "metadata": {},
   "outputs": [
    {
     "name": "stdout",
     "output_type": "stream",
     "text": [
      "bitwise_and = [8 8 3]\n",
      "bitwise_or = [14 14  7]\n",
      "bitwise_xor = [6 6 4]\n",
      "invert = [-1 -2 -3 -4 -5]\n",
      "left_shift = [ 4  8 12]\n",
      "right_shift = [ 4  8 16]\n"
     ]
    }
   ],
   "source": [
    "import numpy as np\n",
    "\n",
    "# Bitwise AND (elementlar bo‘yicha mantiqiy VA amali)\n",
    "x = np.array([0b1100, 0b1010, 0b0111])\n",
    "y = np.array([0b1010, 0b1100, 0b0011])\n",
    "print(f\"bitwise_and = {np.bitwise_and(x, y)}\")  \n",
    "\n",
    "# Bitwise OR (elementlar bo‘yicha mantiqiy YOKI amali)\n",
    "print(f\"bitwise_or = {np.bitwise_or(x, y)}\")  \n",
    "\n",
    "# Bitwise XOR (elementlar bo‘yicha mantiqiy XOR amali)\n",
    "print(f\"bitwise_xor = {np.bitwise_xor(x, y)}\")  \n",
    "\n",
    "# Bitwise INVERT (elementlarni teskari o‘zgartirish)\n",
    "z = np.array([0, 1, 2, 3, 4])\n",
    "print(f\"invert = {np.invert(z)}\")  \n",
    "\n",
    "# LEFT SHIFT (bitlarni chapga siljitish)\n",
    "a = np.array([1, 2, 3])\n",
    "print(f\"left_shift = {np.left_shift(a, 2)}\")  # 2 ta pozitsiyaga chapga siljitish\n",
    "\n",
    "# RIGHT SHIFT (bitlarni o‘ngga siljitish)\n",
    "b = np.array([16, 32, 64])\n",
    "print(f\"right_shift = {np.right_shift(b, 2)}\")  # 2 ta pozitsiyaga o‘ngga siljitish\n"
   ]
  },
  {
   "cell_type": "markdown",
   "metadata": {},
   "source": [
    "# Chiziqli algebra funksiyalari (Linear Algebra)"
   ]
  },
  {
   "cell_type": "code",
   "execution_count": 23,
   "metadata": {},
   "outputs": [
    {
     "name": "stdout",
     "output_type": "stream",
     "text": [
      "dot = \n",
      "[[19 22]\n",
      " [43 50]]\n",
      "matmul = \n",
      "[[19 22]\n",
      " [43 50]]\n",
      "vdot = 32\n",
      "inner = 32\n",
      "outer = \n",
      "[[ 4  5  6]\n",
      " [ 8 10 12]\n",
      " [12 15 18]]\n",
      "norm = 3.7416573867739413\n",
      "det = -2.0000000000000004\n",
      "inv = \n",
      "[[-2.   1. ]\n",
      " [ 1.5 -0.5]]\n",
      "eigvals = [-0.37228132  5.37228132]\n",
      "eigvecs = \n",
      "[[-0.82456484 -0.41597356]\n",
      " [ 0.56576746 -0.90937671]]\n",
      "SVD U = \n",
      "[[-0.40455358 -0.9145143 ]\n",
      " [-0.9145143   0.40455358]]\n",
      "SVD S = [5.4649857  0.36596619]\n",
      "SVD Vt = \n",
      "[[-0.57604844 -0.81741556]\n",
      " [ 0.81741556 -0.57604844]]\n",
      "QR Q = \n",
      "[[-0.31622777 -0.9486833 ]\n",
      " [-0.9486833   0.31622777]]\n",
      "QR R = \n",
      "[[-3.16227766 -4.42718872]\n",
      " [ 0.         -0.63245553]]\n",
      "solve = [-4.   4.5]\n",
      "pinv = \n",
      "[[-2.   1. ]\n",
      " [ 1.5 -0.5]]\n"
     ]
    }
   ],
   "source": [
    "import numpy as np\n",
    "\n",
    "# 1. numpy.dot() - Skalyar ko'paytirish yoki matritsalar ko'paytmasi\n",
    "A = np.array([[1, 2], [3, 4]])\n",
    "B = np.array([[5, 6], [7, 8]])\n",
    "print(f\"dot = \\n{np.dot(A, B)}\")  \n",
    "\n",
    "# 2. numpy.matmul() - Matritsalar ko'paytmasi (yangi @ operatori bilan bir xil)\n",
    "print(f\"matmul = \\n{np.matmul(A, B)}\") \n",
    "\n",
    "# 3. numpy.vdot() - Vektorlar skalyar ko'paytmasi (ichki ko'paytirish)\n",
    "x = np.array([1, 2, 3])\n",
    "y = np.array([4, 5, 6])\n",
    "print(f\"vdot = {np.vdot(x, y)}\") \n",
    "\n",
    "# 4. numpy.inner() - Ichki ko‘paytirish (skalyar yoki vektorlar o‘rtasidagi hosila)\n",
    "print(f\"inner = {np.inner(x, y)}\")  \n",
    "\n",
    "# 5. numpy.outer() - Tashqi ko‘paytirish (matritsa hosil qiladi)\n",
    "print(f\"outer = \\n{np.outer(x, y)}\")\n",
    "\n",
    "# 6. numpy.linalg.norm() - Vektor yoki matritsa normasi (vektor uzunligi)\n",
    "print(f\"norm = {np.linalg.norm(x)}\") \n",
    "\n",
    "# 7. numpy.linalg.det() - Determinantni hisoblash\n",
    "print(f\"det = {np.linalg.det(A)}\")  \n",
    "\n",
    "# 8. numpy.linalg.inv() - Matritsaning teskari matritsasini hisoblash\n",
    "print(f\"inv = \\n{np.linalg.inv(A)}\")  \n",
    "\n",
    "# 9. numpy.linalg.eig() - Matritsaning o‘z qiymatlari va o‘z vektorlari\n",
    "eigvals, eigvecs = np.linalg.eig(A)\n",
    "print(f\"eigvals = {eigvals}\")  \n",
    "print(f\"eigvecs = \\n{eigvecs}\")  \n",
    "\n",
    "# 10. numpy.linalg.svd() - Matritsaning Singular Qiymat Decomposition (SVD)\n",
    "U, S, Vt = np.linalg.svd(A)\n",
    "print(f\"SVD U = \\n{U}\")  \n",
    "print(f\"SVD S = {S}\")  \n",
    "print(f\"SVD Vt = \\n{Vt}\")  \n",
    "\n",
    "# 11. numpy.linalg.qr() - QR dekompozitsiyasi (ortogonal va uchburchak matritsalarga ajratish)\n",
    "Q, R = np.linalg.qr(A)\n",
    "print(f\"QR Q = \\n{Q}\")  \n",
    "print(f\"QR R = \\n{R}\")  \n",
    "\n",
    "# 12. numpy.linalg.solve() - Chiziqli tenglamalar sistemasini yechish (Ax = b)\n",
    "b = np.array([5, 6])\n",
    "x = np.linalg.solve(A, b)\n",
    "print(f\"solve = {x}\")  \n",
    "\n",
    "# 13. numpy.linalg.pinv() - Psevdoinvers matritsani hisoblash\n",
    "print(f\"pinv = \\n{np.linalg.pinv(A)}\")  \n"
   ]
  },
  {
   "cell_type": "markdown",
   "metadata": {},
   "source": [
    "# Random sonlar generatsiyasi (NumPy Random)"
   ]
  },
  {
   "cell_type": "code",
   "execution_count": 24,
   "metadata": {},
   "outputs": [
    {
     "name": "stdout",
     "output_type": "stream",
     "text": [
      "rand = 0.6083462839930919\n",
      "rand(2,3) = \n",
      "[[0.81938953 0.28458141 0.7248775 ]\n",
      " [0.84734132 0.3461566  0.81879789]]\n",
      "randn = 0.6847081388614619\n",
      "randn(3,3) = \n",
      "[[-0.55766889  1.14693015 -2.05625683]\n",
      " [-1.64627122  0.52625892 -0.36744784]\n",
      " [ 0.31864851  0.0090227   1.73890398]]\n",
      "randint(1, 10) = 7\n",
      "randint(5, 15, size=(2,3)) = \n",
      "[[11  8  6]\n",
      " [11  5 12]]\n",
      "random = 0.5869608591280561\n",
      "choice = 30\n",
      "choice(3) = [30 40 50]\n",
      "permutation = [20 50 10 30 40]\n",
      "shuffle = [10 40 50 30 20]\n",
      "seed rand(3) = [0.37454012 0.95071431 0.73199394]\n"
     ]
    }
   ],
   "source": [
    "import numpy as np\n",
    "\n",
    "# 1. numpy.random.rand() - [0, 1] oralig‘ida bir xil taqsimlangan tasodifiy sonlar generatsiyasi\n",
    "print(f\"rand = {np.random.rand()}\") \n",
    "print(f\"rand(2,3) = \\n{np.random.rand(2, 3)}\")  \n",
    "\n",
    "# 2. numpy.random.randn() - Normal (Gauss) taqsimot bo‘yicha tasodifiy sonlar generatsiyasi\n",
    "print(f\"randn = {np.random.randn()}\")\n",
    "print(f\"randn(3,3) = \\n{np.random.randn(3, 3)}\") \n",
    "\n",
    "# 3. numpy.random.randint() - Berilgan [low, high) oralig‘ida butun sonlar generatsiyasi\n",
    "print(f\"randint(1, 10) = {np.random.randint(1, 10)}\") \n",
    "print(f\"randint(5, 15, size=(2,3)) = \\n{np.random.randint(5, 15, size=(2,3))}\")  \n",
    "\n",
    "# 4. numpy.random.random() - [0,1] oralig‘ida tasodifiy son generatsiyasi (rand bilan bir xil)\n",
    "print(f\"random = {np.random.random()}\")  \n",
    "\n",
    "# 5. numpy.random.choice() - Berilgan massivdan tasodifiy element tanlash\n",
    "arr = np.array([10, 20, 30, 40, 50])\n",
    "print(f\"choice = {np.random.choice(arr)}\")  \n",
    "print(f\"choice(3) = {np.random.choice(arr, size=3, replace=False)}\")  \n",
    "\n",
    "# 6. numpy.random.permutation() - Berilgan massivni tasodifiy aralashtirish (yangi nusxa qaytaradi)\n",
    "print(f\"permutation = {np.random.permutation(arr)}\")  \n",
    "\n",
    "# 7. numpy.random.shuffle() - Berilgan massivni joyida (in-place) aralashtirish\n",
    "np.random.shuffle(arr)\n",
    "print(f\"shuffle = {arr}\")  \n",
    "\n",
    "# 8. numpy.random.seed() - Tasodifiy sonlarni qayta takrorlanadigan qilib qo‘yish\n",
    "np.random.seed(42)  \n",
    "print(f\"seed rand(3) = {np.random.rand(3)}\")  \n"
   ]
  },
  {
   "cell_type": "markdown",
   "metadata": {},
   "source": [
    "# Boolean operatsiyalar"
   ]
  },
  {
   "cell_type": "code",
   "execution_count": 25,
   "metadata": {},
   "outputs": [
    {
     "name": "stdout",
     "output_type": "stream",
     "text": [
      "logical_and = [ True False False False]\n",
      "logical_or = [ True  True  True False]\n",
      "logical_not = [False  True False  True]\n",
      "logical_xor = [False  True  True False]\n",
      "allclose = True\n",
      "isclose = [ True  True  True]\n"
     ]
    }
   ],
   "source": [
    "import numpy as np\n",
    "\n",
    "# 1. numpy.logical_and() - Ikkita massivni elementma-element mantiqiy VA (AND) amali\n",
    "a = np.array([True, False, True, False])\n",
    "b = np.array([True, True, False, False])\n",
    "print(f\"logical_and = {np.logical_and(a, b)}\")  \n",
    "\n",
    "# 2. numpy.logical_or() - Ikkita massivni elementma-element mantiqiy YOKI (OR) amali\n",
    "print(f\"logical_or = {np.logical_or(a, b)}\")\n",
    "\n",
    "# 3. numpy.logical_not() - Massiv elementlarini inkor qilish (NOT)\n",
    "print(f\"logical_not = {np.logical_not(a)}\") \n",
    "\n",
    "# 4. numpy.logical_xor() - Ikkita massivni elementma-element mantiqiy XOR amali\n",
    "print(f\"logical_xor = {np.logical_xor(a, b)}\") \n",
    "\n",
    "# 5. numpy.allclose() - Ikkita massivning elementlari yaqinligini tekshirish (float qiymatlar uchun)\n",
    "x = np.array([1.0, 2.001, 3.0])\n",
    "y = np.array([1.0, 2.002, 3.0])\n",
    "print(f\"allclose = {np.allclose(x, y, atol=0.01)}\")  # True, agar barcha elementlar yaqin bo'lsa\n",
    "\n",
    "# 6. numpy.isclose() - Elementlar juftlik bo‘yicha yaqinligini tekshirish\n",
    "print(f\"isclose = {np.isclose(x, y, atol=0.001)}\") \n",
    "\n"
   ]
  },
  {
   "cell_type": "markdown",
   "metadata": {},
   "source": [
    "# Faylga yozish va o‘qish "
   ]
  },
  {
   "cell_type": "code",
   "execution_count": 26,
   "metadata": {},
   "outputs": [
    {
     "name": "stdout",
     "output_type": "stream",
     "text": [
      "load = \n",
      "[[1 2 3]\n",
      " [4 5 6]]\n",
      "loadtxt = \n",
      "[[1 2 3]\n",
      " [4 5 6]]\n",
      "genfromtxt = \n",
      "[[1 2 3]\n",
      " [4 5 6]]\n",
      "fromfile = \n",
      "[1 2 3 4 5 6]\n",
      "logical_and = [ True False False False]\n",
      "logical_or = [ True  True  True False]\n",
      "logical_not = [False  True False  True]\n",
      "logical_xor = [False  True  True False]\n",
      "allclose = True\n",
      "isclose = [ True  True  True]\n"
     ]
    }
   ],
   "source": [
    "import numpy as np\n",
    "\n",
    "# 1. numpy.save() & numpy.load() - Massivni .npy formatida saqlash va yuklash\n",
    "arr = np.array([[1, 2, 3], [4, 5, 6]])\n",
    "np.save(\"data.npy\", arr)\n",
    "loaded_arr = np.load(\"data.npy\")\n",
    "print(f\"load = \\n{loaded_arr}\")\n",
    "\n",
    "# 2. numpy.savetxt() & numpy.loadtxt() - Matn fayliga saqlash va yuklash\n",
    "np.savetxt(\"data.txt\", arr, delimiter=\",\", fmt=\"%d\")\n",
    "loaded_txt = np.loadtxt(\"data.txt\", delimiter=\",\", dtype=int)\n",
    "print(f\"loadtxt = \\n{loaded_txt}\")\n",
    "\n",
    "# 3. numpy.genfromtxt() - Xatolarni to‘g‘rilab matn faylidan yuklash\n",
    "data = np.genfromtxt(\"data.txt\", delimiter=\",\", dtype=int, filling_values=-1)\n",
    "print(f\"genfromtxt = \\n{data}\")\n",
    "\n",
    "# 4. numpy.fromfile() & numpy.tofile() - Ikkilik faylga yozish va o‘qish\n",
    "arr.tofile(\"data.bin\")\n",
    "loaded_bin = np.fromfile(\"data.bin\", dtype=int)\n",
    "print(f\"fromfile = \\n{loaded_bin}\")\n",
    "\n",
    "arr.tofile(\"data_text.txt\", sep=\",\", format=\"%d\")\n",
    "\n",
    "# 5. numpy.logical_and() - Ikkita massivni elementma-element mantiqiy VA (AND) amali\n",
    "a = np.array([True, False, True, False])\n",
    "b = np.array([True, True, False, False])\n",
    "print(f\"logical_and = {np.logical_and(a, b)}\")\n",
    "\n",
    "# 6. numpy.logical_or() - Ikkita massivni elementma-element mantiqiy YOKI (OR) amali\n",
    "print(f\"logical_or = {np.logical_or(a, b)}\")\n",
    "\n",
    "# 7. numpy.logical_not() - Massiv elementlarini inkor qilish (NOT)\n",
    "print(f\"logical_not = {np.logical_not(a)}\")\n",
    "\n",
    "# 8. numpy.logical_xor() - Ikkita massivni elementma-element mantiqiy XOR amali\n",
    "print(f\"logical_xor = {np.logical_xor(a, b)}\")\n",
    "\n",
    "# 9. numpy.allclose() - Ikkita massivning elementlari yaqinligini tekshirish (float qiymatlar uchun)\n",
    "x = np.array([1.0, 2.001, 3.0])\n",
    "y = np.array([1.0, 2.002, 3.0])\n",
    "print(f\"allclose = {np.allclose(x, y, atol=0.01)}\")\n",
    "\n",
    "# 10. numpy.isclose() - Elementlar juftlik bo‘yicha yaqinligini tekshirish\n",
    "print(f\"isclose = {np.isclose(x, y, atol=0.001)}\")\n"
   ]
  },
  {
   "cell_type": "markdown",
   "metadata": {},
   "source": [
    "# NumPy Masked Arrays"
   ]
  },
  {
   "cell_type": "code",
   "execution_count": 27,
   "metadata": {},
   "outputs": [
    {
     "name": "stdout",
     "output_type": "stream",
     "text": [
      "Masked Array:\n",
      "[1 2 3 -- 5]\n",
      "Mask:\n",
      "[False False False  True False]\n",
      "Masked Equal (3):\n",
      "[1 2 -- 4 5 --]\n",
      "Masked Less (2):\n",
      "[-- 4 7 -- 5 --]\n",
      "Masked Greater (5):\n",
      "[2 5 -- 1 --]\n"
     ]
    }
   ],
   "source": [
    "import numpy as np\n",
    "\n",
    "# 1. numpy.ma.masked_array()\n",
    "# Berilgan ma'lumotlardan masklangan massiv yaratadi.\n",
    "data = np.array([1, 2, 3, -1, 5])\n",
    "masked_arr = np.ma.masked_array(data, mask=[0, 0, 0, 1, 0])\n",
    "print(\"Masked Array:\")\n",
    "print(masked_arr)\n",
    "\n",
    "# 2. numpy.ma.getmask()\n",
    "# Masklangan massivning maskasini qaytaradi.\n",
    "mask = np.ma.getmask(masked_arr)\n",
    "print(\"Mask:\")\n",
    "print(mask)\n",
    "\n",
    "# 3. numpy.ma.masked_equal()\n",
    "# Berilgan qiymatga teng bo'lgan elementlarni mask qiladi.\n",
    "data2 = np.array([1, 2, 3, 4, 5, 3])\n",
    "masked_eq = np.ma.masked_equal(data2, 3)  # 3 ga teng bo'lgan elementlarni mask qiladi\n",
    "print(\"Masked Equal (3):\")\n",
    "print(masked_eq)\n",
    "\n",
    "# 4. numpy.ma.masked_less()\n",
    "# Berilgan qiymatdan kichik bo'lgan elementlarni mask qiladi.\n",
    "data3 = np.array([1, 4, 7, -2, 5, 0])\n",
    "masked_less = np.ma.masked_less(data3, 2)  # 2 dan kichik bo'lgan elementlarni mask qiladi\n",
    "print(\"Masked Less (2):\")\n",
    "print(masked_less)\n",
    "\n",
    "# 5. numpy.ma.masked_greater()\n",
    "# Berilgan qiymatdan katta bo'lgan elementlarni mask qiladi.\n",
    "data4 = np.array([2, 5, 8, 1, 6])\n",
    "masked_greater = np.ma.masked_greater(data4, 5)  # 5 dan katta bo'lgan elementlarni mask qiladi\n",
    "print(\"Masked Greater (5):\")\n",
    "print(masked_greater)\n"
   ]
  }
 ],
 "metadata": {
  "kernelspec": {
   "display_name": "ai",
   "language": "python",
   "name": "python3"
  },
  "language_info": {
   "codemirror_mode": {
    "name": "ipython",
    "version": 3
   },
   "file_extension": ".py",
   "mimetype": "text/x-python",
   "name": "python",
   "nbconvert_exporter": "python",
   "pygments_lexer": "ipython3",
   "version": "3.11.11"
  }
 },
 "nbformat": 4,
 "nbformat_minor": 2
}
