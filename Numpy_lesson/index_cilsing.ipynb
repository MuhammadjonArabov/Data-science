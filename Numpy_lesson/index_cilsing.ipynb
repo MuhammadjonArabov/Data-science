{
 "cells": [
  {
   "cell_type": "markdown",
   "metadata": {},
   "source": [
    "# take - berilgan indexdagi lementlarni olib beradi"
   ]
  },
  {
   "cell_type": "code",
   "execution_count": 7,
   "metadata": {},
   "outputs": [
    {
     "name": "stdout",
     "output_type": "stream",
     "text": [
      "[10 20 60]\n"
     ]
    }
   ],
   "source": [
    "import numpy as np\n",
    "arr = np.array([10, 20, 30, 40, 50, 60, 70, 80])\n",
    "index_ = [0, 1, 5]\n",
    "result = np.take(arr, index_)\n",
    "print(result)\n"
   ]
  },
  {
   "cell_type": "markdown",
   "metadata": {},
   "source": [
    "# put - berilgan indekslar bo‘yicha massivga yangi qiymatlar joylashtirish"
   ]
  },
  {
   "cell_type": "code",
   "execution_count": 6,
   "metadata": {},
   "outputs": [
    {
     "name": "stdout",
     "output_type": "stream",
     "text": [
      "[ 0  9 30 40 50  8 70 80]\n"
     ]
    }
   ],
   "source": [
    "value = [0, 9, 8]\n",
    "result01 = np.put(arr, index_, value) \n",
    "print(arr)"
   ]
  },
  {
   "cell_type": "markdown",
   "metadata": {},
   "source": [
    "# choose - berilgan indekslar bo‘yicha bir nechta massivdan elementlarni tanlash"
   ]
  },
  {
   "cell_type": "code",
   "execution_count": 12,
   "metadata": {},
   "outputs": [
    {
     "name": "stdout",
     "output_type": "stream",
     "text": [
      "[21 20 14 40]\n"
     ]
    }
   ],
   "source": [
    "a = np.array([10, 20, 30, 40])\n",
    "b = np.array([12, 13, 14, 15])\n",
    "c = np.array([21, 14, 15, 17])\n",
    "choices = [a, b, c]\n",
    "index02 = [2, 0, 1, 0]\n",
    "result02 = np.choose(index02, choices)\n",
    "print(result02)"
   ]
  },
  {
   "cell_type": "markdown",
   "metadata": {},
   "source": [
    "# nonzero - 0 bo'lmagan elemetlarni indexsini qaytaradi"
   ]
  },
  {
   "cell_type": "code",
   "execution_count": 17,
   "metadata": {},
   "outputs": [
    {
     "name": "stdout",
     "output_type": "stream",
     "text": [
      "(array([0, 1, 3, 4]),)\n"
     ]
    }
   ],
   "source": [
    "arr01 = np.array([1, 2, 0, 3, 8, 0, 0])\n",
    "result03 = np.nonzero(arr01)\n",
    "print(result03)"
   ]
  },
  {
   "cell_type": "markdown",
   "metadata": {},
   "source": [
    "# where - berilgan shartga kiradigan elemet indexslarini qaytaradi yo elelmt qo'shadi"
   ]
  },
  {
   "cell_type": "code",
   "execution_count": 21,
   "metadata": {},
   "outputs": [
    {
     "name": "stdout",
     "output_type": "stream",
     "text": [
      "(array([1, 3, 4]),) [0 0 0 1]\n"
     ]
    }
   ],
   "source": [
    "result04 = np.where(arr01 > 1)\n",
    "result05 = np.where(a > 30, 1, 0)\n",
    "print(result04, result05)"
   ]
  },
  {
   "cell_type": "markdown",
   "metadata": {},
   "source": [
    "# extract - shary bo'yicha e'lemetlarni olish"
   ]
  },
  {
   "cell_type": "code",
   "execution_count": 23,
   "metadata": {},
   "outputs": [
    {
     "name": "stdout",
     "output_type": "stream",
     "text": [
      "[2 3 8]\n"
     ]
    }
   ],
   "source": [
    "result06 = np.extract(arr01 > 1, arr01)\n",
    "print(result06)"
   ]
  },
  {
   "cell_type": "markdown",
   "metadata": {},
   "source": [
    "# diagonal - matritsaning diagonal elementlarini olish"
   ]
  },
  {
   "cell_type": "code",
   "execution_count": 25,
   "metadata": {},
   "outputs": [
    {
     "name": "stdout",
     "output_type": "stream",
     "text": [
      "[1 6 1 4]\n"
     ]
    }
   ],
   "source": [
    "m = np.array([\n",
    "    [1, 2, 3, 4],\n",
    "    [5, 6, 7, 8],\n",
    "    [9, 0, 1, 2],\n",
    "    [0, 5, 3, 4]\n",
    "])\n",
    "result07 = np.diagonal(m)\n",
    "print(result07)"
   ]
  },
  {
   "cell_type": "markdown",
   "metadata": {},
   "source": [
    "# compress - berilgan shart bo‘yicha faqat mos keladigan elementlarni olish."
   ]
  },
  {
   "cell_type": "code",
   "execution_count": 26,
   "metadata": {},
   "outputs": [
    {
     "name": "stdout",
     "output_type": "stream",
     "text": [
      "[ 1 14 15]\n"
     ]
    }
   ],
   "source": [
    "arr02 = np.array([1, 13, 14, 15, 7])\n",
    "condition = [True, False, True, True, False]\n",
    "result08 = np.compress(condition, arr02)\n",
    "print(result08)"
   ]
  }
 ],
 "metadata": {
  "kernelspec": {
   "display_name": "ai",
   "language": "python",
   "name": "python3"
  },
  "language_info": {
   "codemirror_mode": {
    "name": "ipython",
    "version": 3
   },
   "file_extension": ".py",
   "mimetype": "text/x-python",
   "name": "python",
   "nbconvert_exporter": "python",
   "pygments_lexer": "ipython3",
   "version": "3.11.11"
  }
 },
 "nbformat": 4,
 "nbformat_minor": 2
}
