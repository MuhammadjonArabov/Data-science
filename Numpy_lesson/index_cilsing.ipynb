{
 "cells": [
  {
   "cell_type": "markdown",
   "metadata": {},
   "source": [
    "# take - berilgan indexdagi lementlarni olib beradi"
   ]
  },
  {
   "cell_type": "code",
   "execution_count": 7,
   "metadata": {},
   "outputs": [
    {
     "name": "stdout",
     "output_type": "stream",
     "text": [
      "[10 20 60]\n"
     ]
    }
   ],
   "source": [
    "import numpy as np\n",
    "arr = np.array([10, 20, 30, 40, 50, 60, 70, 80])\n",
    "index_ = [0, 1, 5]\n",
    "result = np.take(arr, index_)\n",
    "print(result)\n"
   ]
  },
  {
   "cell_type": "markdown",
   "metadata": {},
   "source": [
    "# put - berilgan indekslar bo‘yicha massivga yangi qiymatlar joylashtirish"
   ]
  },
  {
   "cell_type": "code",
   "execution_count": 6,
   "metadata": {},
   "outputs": [
    {
     "name": "stdout",
     "output_type": "stream",
     "text": [
      "[ 0  9 30 40 50  8 70 80]\n"
     ]
    }
   ],
   "source": [
    "value = [0, 9, 8]\n",
    "result01 = np.put(arr, index_, value) \n",
    "print(arr)"
   ]
  },
  {
   "cell_type": "markdown",
   "metadata": {},
   "source": [
    "# choose - berilgan indekslar bo‘yicha bir nechta massivdan elementlarni tanlash"
   ]
  },
  {
   "cell_type": "code",
   "execution_count": 12,
   "metadata": {},
   "outputs": [
    {
     "name": "stdout",
     "output_type": "stream",
     "text": [
      "[21 20 14 40]\n"
     ]
    }
   ],
   "source": [
    "a = np.array([10, 20, 30, 40])\n",
    "b = np.array([12, 13, 14, 15])\n",
    "c = np.array([21, 14, 15, 17])\n",
    "choices = [a, b, c]\n",
    "index02 = [2, 0, 1, 0]\n",
    "result02 = np.choose(index02, choices)\n",
    "print(result02)"
   ]
  },
  {
   "cell_type": "markdown",
   "metadata": {},
   "source": [
    "# nonzero - 0 bo'lmagan elemetlarni indexsini qaytaradi"
   ]
  },
  {
   "cell_type": "code",
   "execution_count": 13,
   "metadata": {},
   "outputs": [
    {
     "name": "stdout",
     "output_type": "stream",
     "text": [
      "(array([0, 1, 3, 4]),)\n"
     ]
    }
   ],
   "source": [
    "arr01 = np.array([1, 2, 0, 3, 4, 0, 0])\n",
    "result03 = np.nonzero(arr01)\n",
    "print(result03)"
   ]
  }
 ],
 "metadata": {
  "kernelspec": {
   "display_name": "ai",
   "language": "python",
   "name": "python3"
  },
  "language_info": {
   "codemirror_mode": {
    "name": "ipython",
    "version": 3
   },
   "file_extension": ".py",
   "mimetype": "text/x-python",
   "name": "python",
   "nbconvert_exporter": "python",
   "pygments_lexer": "ipython3",
   "version": "3.11.11"
  }
 },
 "nbformat": 4,
 "nbformat_minor": 2
}
