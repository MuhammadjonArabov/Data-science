{
 "cells": [
  {
   "cell_type": "code",
   "execution_count": 37,
   "metadata": {},
   "outputs": [
    {
     "name": "stdout",
     "output_type": "stream",
     "text": [
      "Yangi DataFrame:\n",
      "      Ism  Yosh    Shahar         Kasbi\n",
      "0    Ali    12  Toshkent      O'quvchi\n",
      "1   Vali    23  Namangan       Injener\n",
      "2  Bobur    20   Andijon        Talaba\n",
      "3  Sobir    19    Navoiy          Usta\n",
      "4   Olim    24  Namangan         Novoy\n",
      "5  Bobur    26    Buxoro  Haykaltarosh\n",
      "\n",
      "Birinchi 4 qator:\n",
      "      Ism  Yosh    Shahar     Kasbi\n",
      "0    Ali    12  Toshkent  O'quvchi\n",
      "1   Vali    23  Namangan   Injener\n",
      "2  Bobur    20   Andijon    Talaba\n",
      "3  Sobir    19    Navoiy      Usta\n",
      "\n",
      "Statistik ma'lumotlarni chiqarish\n",
      "             Yosh\n",
      "count   6.000000\n",
      "mean   20.666667\n",
      "std     4.966555\n",
      "min    12.000000\n",
      "25%    19.250000\n",
      "50%    21.500000\n",
      "75%    23.750000\n",
      "max    26.000000\n",
      "\n",
      "Birinchi qator o'chirilgandan keyin\n",
      "      Ism  Yosh    Shahar         Kasbi\n",
      "1   Vali    23  Namangan       Injener\n",
      "2  Bobur    20   Andijon        Talaba\n",
      "3  Sobir    19    Navoiy          Usta\n",
      "4   Olim    24  Namangan         Novoy\n",
      "5  Bobur    26    Buxoro  Haykaltarosh\n",
      "\n",
      "Ustin o'chirilgandan keyin\n",
      "      Ism  Yosh         Kasbi\n",
      "0    Ali    12      O'quvchi\n",
      "1   Vali    23       Injener\n",
      "2  Bobur    20        Talaba\n",
      "3  Sobir    19          Usta\n",
      "4   Olim    24         Novoy\n",
      "5  Bobur    26  Haykaltarosh\n",
      "\n",
      "Indeks bo‘yicha murojaat (Valining yoshi): 19\n",
      "\n",
      "4-indeksdagi ism: Olim\n"
     ]
    }
   ],
   "source": [
    "import pandas as pd\n",
    "\n",
    "data = {\"Ism\": [\"Ali\", \"Vali\", \"Bobur\", \"Sobir\", \"Olim\", \"Bobur\"],\n",
    "        \"Yosh\": [12, 23, 20, 19, 24, 26],\n",
    "        \"Shahar\": [\"Toshkent\", \"Namangan\", \"Andijon\", \"Navoiy\", \"Namangan\", \"Buxoro\"],\n",
    "        \"Kasbi\": [\"O'quvchi\", \"Injener\", \"Talaba\", \"Usta\", \"Novoy\", \"Haykaltarosh\"]\n",
    "        }\n",
    "\n",
    "df = pd.DataFrame(data)\n",
    "print(\"Yangi DataFrame:\\n\", df)\n",
    "\n",
    "print(\"\\nBirinchi 4 qator:\\n\", df.head(4))\n",
    "\n",
    "df_drop_x= df.drop(index=0) \n",
    "print(\"\\nBirinchi qator o'chirilgandan keyin\\n\", df_drop_x)\n",
    "\n",
    "df_drop = df.drop(columns=\"Shahar\") \n",
    "print(\"\\nUstin o'chirilgandan keyin\\n\", df_drop)\n",
    "\n",
    "print(\"\\nIndeks bo‘yicha murojaat (Valining yoshi):\", df.loc[3, 'Yosh'])\n",
    "\n",
    "print(\"\\n4-indeksdagi ism:\", df.iloc[4, 0])\n",
    "\n",
    "\n",
    "\n"
   ]
  },
  {
   "cell_type": "code",
   "execution_count": 38,
   "metadata": {},
   "outputs": [
    {
     "name": "stdout",
     "output_type": "stream",
     "text": [
      "\n",
      "Birlashtirilgan DataFrame:\n",
      "    ID    Ism  Maosh\n",
      "0   1    Ali    500\n",
      "1   2   Vali    700\n",
      "2   3  Hasan    800\n",
      "\n",
      "Statistik ma'lumotlarni chiqarish\n",
      "             Yosh\n",
      "count   6.000000\n",
      "mean   20.666667\n",
      "std     4.966555\n",
      "min    12.000000\n",
      "25%    19.250000\n",
      "50%    21.500000\n",
      "75%    23.750000\n",
      "max    26.000000\n"
     ]
    }
   ],
   "source": [
    "df1 = pd.DataFrame({'ID': [1, 2, 3], 'Ism': ['Ali', 'Vali', 'Hasan']})\n",
    "df2 = pd.DataFrame({'ID': [1, 2, 3], 'Maosh': [500, 700, 800]})\n",
    "df_merged = df1.merge(df2, on=\"ID\")\n",
    "print(\"\\nBirlashtirilgan DataFrame:\\n\", df_merged)\n",
    "\n",
    "print(\"\\nStatistik ma'lumotlarni chiqarish\\n\", df.describe())\n",
    "\n"
   ]
  },
  {
   "cell_type": "code",
   "execution_count": 39,
   "metadata": {},
   "outputs": [
    {
     "name": "stdout",
     "output_type": "stream",
     "text": [
      "\n",
      "Guruhlangan DataFrame:\n",
      "             Yosh\n",
      "Kategoriya      \n",
      "Katta       30.0\n",
      "Yosh        23.5\n"
     ]
    }
   ],
   "source": [
    "df7 = pd.DataFrame({'Ism': ['Ali', 'Vali', 'Hasan'],\n",
    "                    'Yosh': [25, 30, 22],\n",
    "                    'Kategoriya': ['Yosh', 'Katta', 'Yosh']})\n",
    "\n",
    "df7_grouped = df7.groupby('Kategoriya').mean(numeric_only=True)\n",
    "\n",
    "print(\"\\nGuruhlangan DataFrame:\\n\", df7_grouped)"
   ]
  },
  {
   "cell_type": "code",
   "execution_count": 40,
   "metadata": {},
   "outputs": [
    {
     "name": "stdout",
     "output_type": "stream",
     "text": [
      "\n",
      "Pivot jadval:\n",
      "             Yosh\n",
      "Kategoriya      \n",
      "Katta       30.0\n",
      "Yosh        23.5\n"
     ]
    }
   ],
   "source": [
    "df8 = pd.DataFrame({'Ism': ['Ali', 'Vali', 'Hasan'],\n",
    "                    'Yosh': [25, 30, 22],\n",
    "                    'Kategoriya': ['Yosh', 'Katta', 'Yosh']})\n",
    "pivot = df8.pivot_table(values='Yosh', index='Kategoriya', aggfunc='mean')\n",
    "print(\"\\nPivot jadval:\\n\", pivot)"
   ]
  },
  {
   "cell_type": "code",
   "execution_count": 49,
   "metadata": {},
   "outputs": [
    {
     "data": {
      "image/png": "[encoded data removed]",
      "text/plain": [
       "<Figure size 640x480 with 1 Axes>"
      ]
     },
     "metadata": {},
     "output_type": "display_data"
    }
   ],
   "source": [
    "\n",
    "import matplotlib.pyplot as plt\n",
    "\n",
    "df.plot(x='Ism', y='Yosh', kind='bar', title=\"Yosh taqsimoti\")\n",
    "plt.show()"
   ]
  },
  {
   "cell_type": "code",
   "execution_count": 51,
   "metadata": {},
   "outputs": [
    {
     "name": "stdout",
     "output_type": "stream",
     "text": [
      "\n",
      "DataFrame haqida ma'lumot:\n",
      "<class 'pandas.core.frame.DataFrame'>\n",
      "RangeIndex: 6 entries, 0 to 5\n",
      "Data columns (total 4 columns):\n",
      " #   Column  Non-Null Count  Dtype \n",
      "---  ------  --------------  ----- \n",
      " 0   Ism     6 non-null      object\n",
      " 1   Yosh    6 non-null      int64 \n",
      " 2   Shahar  6 non-null      object\n",
      " 3   Kasbi   6 non-null      object\n",
      "dtypes: int64(1), object(3)\n",
      "memory usage: 324.0+ bytes\n"
     ]
    }
   ],
   "source": [
    "print(\"\\nDataFrame haqida ma'lumot:\")\n",
    "df.info()"
   ]
  }
 ],
 "metadata": {
  "kernelspec": {
   "display_name": "ai",
   "language": "python",
   "name": "python3"
  },
  "language_info": {
   "codemirror_mode": {
    "name": "ipython",
    "version": 3
   },
   "file_extension": ".py",
   "mimetype": "text/x-python",
   "name": "python",
   "nbconvert_exporter": "python",
   "pygments_lexer": "ipython3",
   "version": "3.11.11"
  }
 },
 "nbformat": 4,
 "nbformat_minor": 2
}
